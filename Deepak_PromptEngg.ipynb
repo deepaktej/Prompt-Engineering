{
 "cells": [
  {
   "cell_type": "code",
   "execution_count": 13,
   "id": "c5f54ba9",
   "metadata": {},
   "outputs": [],
   "source": [
    "import openai"
   ]
  },
  {
   "cell_type": "code",
   "execution_count": 14,
   "id": "cc752b80",
   "metadata": {},
   "outputs": [],
   "source": [
    "openai.api_key=\"sk-Give your API Key\""
   ]
  },
  {
   "cell_type": "code",
   "execution_count": 15,
   "id": "ceffc219",
   "metadata": {},
   "outputs": [],
   "source": [
    "def get_completion(prompt,model=\"gpt-3.5-turbo\", temperature=0):\n",
    "    messages=[{\"role\":\"user\",\"content\":prompt}]\n",
    "    response=openai.ChatCompletion.create(\n",
    "    model=model,\n",
    "    temperature=temperature,\n",
    "    messages=messages,)\n",
    "    return response.choices[0].message[\"content\"]\n"
   ]
  },
  {
   "cell_type": "code",
   "execution_count": 4,
   "id": "e9d1a717",
   "metadata": {},
   "outputs": [],
   "source": [
    "prompt=\"write a story about wife and husband love in a positive way in 200 words\""
   ]
  },
  {
   "cell_type": "code",
   "execution_count": 5,
   "id": "7661c4b9",
   "metadata": {},
   "outputs": [
    {
     "name": "stdout",
     "output_type": "stream",
     "text": [
      "Once upon a time, in a small town nestled amidst rolling hills, lived a couple named Emily and James. Their love story was one that radiated warmth and positivity, captivating the hearts of all who knew them.\n",
      "\n",
      "Emily, with her infectious laughter and kind heart, was the epitome of love and compassion. James, on the other hand, was a pillar of strength and unwavering support. Together, they created a harmonious bond that stood the test of time.\n",
      "\n",
      "Their love was evident in the little things they did for each other. James would surprise Emily with her favorite flowers, and she would prepare his favorite meal after a long day at work. They cherished every moment spent together, whether it was a simple walk in the park or a cozy evening by the fireplace.\n",
      "\n",
      "Their love was not just confined to their own relationship; it extended to their community as well. They volunteered at local charities, spreading love and kindness wherever they went. Their selflessness inspired others to follow suit, creating a ripple effect of love throughout the town.\n",
      "\n",
      "Through life's ups and downs, Emily and James remained each other's rock. They faced challenges hand in hand, supporting and encouraging one another. Their love was a beacon of hope, reminding everyone that true love exists and can conquer all obstacles.\n",
      "\n",
      "As the years passed, their love only grew stronger. They aged gracefully, cherishing the memories they had created together. Their love story became a legend in the town, a testament to the power of love and the beauty of a lifelong partnership.\n",
      "\n",
      "Emily and James were a shining example of a positive, enduring love. Their story serves as a reminder that love, when nurtured with kindness, respect, and selflessness, can create a world filled with joy and happiness.\n"
     ]
    }
   ],
   "source": [
    "response = get_completion(prompt)\n",
    "print(response)"
   ]
  },
  {
   "cell_type": "code",
   "execution_count": 7,
   "id": "25e04372",
   "metadata": {},
   "outputs": [
    {
     "name": "stdout",
     "output_type": "stream",
     "text": [
      "Slide 1: Introduction\n",
      "- Title: \"Understanding Global Warming\"\n",
      "- Briefly define global warming as the long-term increase in Earth's average surface temperature due to human activities.\n",
      "- Mention the main causes of global warming, such as the burning of fossil fuels, deforestation, and industrial processes.\n",
      "- Include an image depicting the Earth with rising temperature lines or a graph showing the increase in global temperatures over time.\n",
      "\n",
      "Slide 2: Impact on Climate\n",
      "- Title: \"Climate Change and Extreme Weather Events\"\n",
      "- Explain how global warming leads to climate change, resulting in more frequent and intense extreme weather events.\n",
      "- Discuss examples of extreme weather events, such as hurricanes, heatwaves, droughts, and floods, and their connection to global warming.\n",
      "- Include an image showing the aftermath of a natural disaster caused by climate change, like a flooded city or a wildfire.\n",
      "\n",
      "Slide 3: Environmental Consequences\n",
      "- Title: \"Environmental Impacts of Global Warming\"\n",
      "- Highlight the negative effects of global warming on ecosystems and biodiversity.\n",
      "- Discuss the melting of polar ice caps, rising sea levels, and the subsequent threat to coastal areas and island nations.\n",
      "- Mention the loss of habitats, species extinction, and disruption of ecosystems due to changing temperatures and weather patterns.\n",
      "- Include an image showcasing the melting glaciers or a polar bear on a shrinking ice floe.\n",
      "\n",
      "Slide 4: Human Health and Economy\n",
      "- Title: \"Global Warming's Impact on Human Health and Economy\"\n",
      "- Explain how global warming affects human health, including increased heat-related illnesses, respiratory problems due to air pollution, and the spread of diseases.\n",
      "- Discuss the economic consequences, such as damage to infrastructure, decreased agricultural productivity, and increased costs for disaster response and recovery.\n",
      "- Include an image representing the health impacts of global warming, like a person suffering from heatstroke or a polluted city skyline.\n",
      "\n",
      "Slide 5: Mitigation and Solutions\n",
      "- Title: \"Addressing Global Warming: Mitigation and Solutions\"\n",
      "- Present various strategies to mitigate global warming, such as transitioning to renewable energy sources, improving energy efficiency, and promoting sustainable transportation.\n",
      "- Discuss the importance of international cooperation, policy changes, and individual actions in reducing greenhouse gas emissions.\n",
      "- Include an image showcasing renewable energy sources like wind turbines or solar panels, symbolizing the transition to a low-carbon future.\n",
      "\n",
      "Remember to use concise bullet points, visually appealing graphics, and a consistent design throughout your presentation.\n"
     ]
    }
   ],
   "source": [
    "prompt=\"Generate content for my PPT creation on Globalwarming, content should be suffecient for 5 slides, it will be helpful if you can give me some immages also\"\n",
    "response=get_completion(prompt)\n",
    "print(response)"
   ]
  },
  {
   "cell_type": "code",
   "execution_count": 8,
   "id": "255ef986",
   "metadata": {},
   "outputs": [],
   "source": [
    "prompt=\"\"\"write a python script to read all '.dat' files present\n",
    "in a folder by taking folder path as input from user create a new .dat file, \n",
    "with same file name that you read and add column names into it, check that file \n",
    "such that total number of columns count should be equal to number of elements \n",
    "present each and every row, add that row into that new .dat file \n",
    "if the row element count is less than the column names count check by adding that row elements count to \n",
    "next row element count if that count matches the column names count then add it to .dat file continue this process \n",
    "till the last row, and create another excel file to add the row numbers that non matching count \"\"\""
   ]
  },
  {
   "cell_type": "code",
   "execution_count": 9,
   "id": "984af220",
   "metadata": {},
   "outputs": [
    {
     "name": "stdout",
     "output_type": "stream",
     "text": [
      "Here is a Python script that reads all '.dat' files present in a folder, creates a new '.dat' file with the same file name, adds column names into it, and checks each row to ensure that the total number of columns count matches the number of elements in each row. If the count doesn't match, it adds the row number to a separate Excel file.\n",
      "\n",
      "```python\n",
      "import os\n",
      "import csv\n",
      "import pandas as pd\n",
      "\n",
      "# Function to check if the row count matches the column count\n",
      "def check_row_count(row, column_count):\n",
      "    row_count = len(row)\n",
      "    if row_count == column_count:\n",
      "        return True\n",
      "    else:\n",
      "        return False\n",
      "\n",
      "# Function to create a new .dat file with column names\n",
      "def create_new_dat_file(file_path, column_names):\n",
      "    new_file_path = file_path.replace('.dat', '_new.dat')\n",
      "    with open(new_file_path, 'w', newline='') as new_file:\n",
      "        writer = csv.writer(new_file, delimiter='\\t')\n",
      "        writer.writerow(column_names)\n",
      "    return new_file_path\n",
      "\n",
      "# Function to add a row to the new .dat file\n",
      "def add_row_to_dat_file(file_path, row):\n",
      "    with open(file_path, 'a', newline='') as dat_file:\n",
      "        writer = csv.writer(dat_file, delimiter='\\t')\n",
      "        writer.writerow(row)\n",
      "\n",
      "# Function to create an Excel file and add row numbers with non-matching count\n",
      "def create_excel_file(file_path, row_numbers):\n",
      "    excel_file_path = file_path.replace('.dat', '_row_numbers.xlsx')\n",
      "    df = pd.DataFrame({'Row Number': row_numbers})\n",
      "    df.to_excel(excel_file_path, index=False)\n",
      "    return excel_file_path\n",
      "\n",
      "# Get the folder path from the user\n",
      "folder_path = input(\"Enter the folder path: \")\n",
      "\n",
      "# Get all '.dat' files in the folder\n",
      "dat_files = [file for file in os.listdir(folder_path) if file.endswith('.dat')]\n",
      "\n",
      "# Iterate over each '.dat' file\n",
      "for dat_file in dat_files:\n",
      "    file_path = os.path.join(folder_path, dat_file)\n",
      "    column_names = []\n",
      "    rows = []\n",
      "    row_numbers = []\n",
      "    column_count = 0\n",
      "    row_count = 0\n",
      "    \n",
      "    # Read the file and get the column names and rows\n",
      "    with open(file_path, 'r') as file:\n",
      "        reader = csv.reader(file, delimiter='\\t')\n",
      "        for row in reader:\n",
      "            if column_count == 0:\n",
      "                column_count = len(row)\n",
      "                column_names = row\n",
      "            else:\n",
      "                rows.append(row)\n",
      "                row_count += 1\n",
      "    \n",
      "    # Create a new .dat file with column names\n",
      "    new_file_path = create_new_dat_file(file_path, column_names)\n",
      "    \n",
      "    # Iterate over each row and check the count\n",
      "    for i in range(row_count):\n",
      "        row = rows[i]\n",
      "        if check_row_count(row, column_count):\n",
      "            add_row_to_dat_file(new_file_path, row)\n",
      "        else:\n",
      "            if i+1 < row_count:\n",
      "                next_row = rows[i+1]\n",
      "                combined_row = row + next_row\n",
      "                if check_row_count(combined_row, column_count):\n",
      "                    add_row_to_dat_file(new_file_path, combined_row)\n",
      "                    row_numbers.append(i+1)\n",
      "                else:\n",
      "                    row_numbers.append(i+1)\n",
      "            else:\n",
      "                row_numbers.append(i+1)\n",
      "    \n",
      "    # Create an Excel file with row numbers of non-matching count\n",
      "    excel_file_path = create_excel_file(file_path, row_numbers)\n",
      "    print(f\"Processed file: {dat_file}\")\n",
      "    print(f\"New .dat file created: {new_file_path}\")\n",
      "    print(f\"Excel file created with row numbers: {excel_file_path}\")\n",
      "    print()\n",
      "```\n",
      "\n",
      "Make sure to have the `pandas` library installed to create the Excel file. You can install it using `pip install pandas`.\n"
     ]
    }
   ],
   "source": [
    "response=get_completion(prompt)\n",
    "print(response)"
   ]
  },
  {
   "cell_type": "code",
   "execution_count": 22,
   "id": "3667b7a1",
   "metadata": {},
   "outputs": [],
   "source": [
    "review=\"\"\"the company policy is good but I think should be a open book to every employee\\\n",
    "the organization's environment sholud be more employee friendly, Salary hikes are good.\\\n",
    "Employees are firendly, FOod is good, crench facility is also there\"\"\""
   ]
  },
  {
   "cell_type": "code",
   "execution_count": 25,
   "id": "02e54bb6",
   "metadata": {},
   "outputs": [],
   "source": [
    "prompt=f\"\"\"Your task is to extract 3 points from the given review. \\\n",
    "Review: ```{review}```\"\"\""
   ]
  },
  {
   "cell_type": "code",
   "execution_count": 26,
   "id": "7f2ebb39",
   "metadata": {},
   "outputs": [
    {
     "name": "stdout",
     "output_type": "stream",
     "text": [
      "1. The company policy is good, but the reviewer believes it should be an open book to every employee. This suggests that the reviewer values transparency and believes that all employees should have access to company policies.\n",
      "\n",
      "2. The organization's environment should be more employee-friendly. This indicates that the reviewer feels that the current work environment may not be conducive to employee satisfaction or well-being. They may be looking for improvements in areas such as work-life balance, support, or employee benefits.\n",
      "\n",
      "3. Salary hikes are good. This implies that the reviewer is satisfied with the salary increases provided by the company. It suggests that the company values fair compensation and rewards its employees with regular salary hikes.\n"
     ]
    }
   ],
   "source": [
    "response=get_completion(prompt)\n",
    "print(response)"
   ]
  },
  {
   "cell_type": "code",
   "execution_count": null,
   "id": "c2018db7",
   "metadata": {},
   "outputs": [],
   "source": []
  }
 ],
 "metadata": {
  "kernelspec": {
   "display_name": "Python 3 (ipykernel)",
   "language": "python",
   "name": "python3"
  },
  "language_info": {
   "codemirror_mode": {
    "name": "ipython",
    "version": 3
   },
   "file_extension": ".py",
   "mimetype": "text/x-python",
   "name": "python",
   "nbconvert_exporter": "python",
   "pygments_lexer": "ipython3",
   "version": "3.11.5"
  }
 },
 "nbformat": 4,
 "nbformat_minor": 5
}
